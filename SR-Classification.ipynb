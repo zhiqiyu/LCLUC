{
 "cells": [
  {
   "cell_type": "markdown",
   "metadata": {},
   "source": [
    "# LCLUC project notebook - Classifying phase"
   ]
  },
  {
   "cell_type": "code",
   "execution_count": 1,
   "metadata": {},
   "outputs": [],
   "source": [
    "import pandas as pd\n",
    "import geopandas as gpd\n",
    "import numpy as np\n",
    "import glob\n",
    "import os\n",
    "import matplotlib.pyplot as plt\n",
    "import rasterio\n",
    "from osgeo import gdal\n",
    "\n",
    "from sklearn.ensemble import RandomForestClassifier\n",
    "from sklearn.model_selection import train_test_split\n",
    "\n",
    "from skimage.filters.rank import modal\n",
    "from skimage.morphology import square\n",
    "\n",
    "import pickle"
   ]
  },
  {
   "cell_type": "code",
   "execution_count": 2,
   "metadata": {},
   "outputs": [],
   "source": [
    "path = '136'\n",
    "year = '2005'\n",
    "wdir = 'd:/CSISS/data/' + path + '/' + year\n",
    "os.chdir(wdir)"
   ]
  },
  {
   "cell_type": "code",
   "execution_count": 3,
   "metadata": {},
   "outputs": [],
   "source": [
    "smooth_times = 3"
   ]
  },
  {
   "cell_type": "code",
   "execution_count": 4,
   "metadata": {},
   "outputs": [],
   "source": [
    "data = rasterio.open('mosaic.tif')"
   ]
  },
  {
   "cell_type": "code",
   "execution_count": 5,
   "metadata": {},
   "outputs": [],
   "source": [
    "def Classify(file, clf):\n",
    "    data = rasterio.open(file)\n",
    "    mask = np.ones(data.shape, dtype=bool)\n",
    "    for i in range(1, data.count+1):\n",
    "        band = data.read(i)\n",
    "        tmp_mask = (band > 0)\n",
    "        mask = (mask & tmp_mask)\n",
    "    \n",
    "    #data_masked = []\n",
    "    data_m = np.empty(shape=(data.count, data.shape[0], data.shape[1]), dtype='int')\n",
    "    for i in range(1, data.count+1):\n",
    "        band = data.read(i).copy()\n",
    "        band[~mask] = 0\n",
    "        #data_masked.append(band)\n",
    "        data_m[i-1] = band\n",
    "        \n",
    "    #data_m = np.array(data_masked, dtype='int')\n",
    "    data_m = data_m.swapaxes(0, 2)\n",
    "    \n",
    "        \n",
    "    X_data = np.reshape(data_m, (data_m.shape[0]*data_m.shape[1], data_m.shape[2]), order='C')\n",
    "    X_df = pd.DataFrame(X_data)\n",
    "   \n",
    "    X_target = X_df[(X_df.iloc[:, 0] != 0) & (X_df.iloc[:, 1] != 0) & (X_df.iloc[:, 2] != 0) &\n",
    "                   (X_df.iloc[:,3]!=0) & (X_df.iloc[:,4]!= 0) & (X_df.iloc[:,5]!=0)].copy()\n",
    "    del X_df\n",
    "    \n",
    "    b1 = X_target.iloc[:, 0]\n",
    "    b2 = X_target.iloc[:, 1]\n",
    "    b3 = X_target.iloc[:, 2]\n",
    "    b4 = X_target.iloc[:, 3]\n",
    "    b5 = X_target.iloc[:, 4]\n",
    "    b6 = X_target.iloc[:, 5]\n",
    "\n",
    "    \n",
    "    X_target['ndvi'] = (b4 - b3)/(b4 + b3)\n",
    "    X_target['ndwi'] = (b2 - b4)/(b2 + b4)\n",
    "    X_target['ndbi'] = (b5 - b4)/(b4 + b5)\n",
    "    \n",
    "    X_target['savi'] = 1.5*(b4 - b3)/(b4 + b3 + 0.5)\n",
    "    X_target['ndsi'] = (b6 - b2)/(b6 + b2)\n",
    "    X_target['mndwi'] = (b2 - b5)/(b2 + b5)\n",
    "    X_target['evi'] = 2.5*(b4 - b3)/(b4 + 6*b3 - 7.5*b1 + 1)\n",
    "   \n",
    "    X_target['ui'] = (b6 - b4)/(b6 + b4)\n",
    "    X_target[(X_target.iloc[:, -2] == np.inf)] = 10000\n",
    "    X_target[(X_target.iloc[:, -2] == -np.inf)] = -10000\n",
    "    X_target[np.isnan(X_target.iloc[:, -2])] = 10000\n",
    "    \n",
    "    X_array = X_target.as_matrix()\n",
    "    \n",
    "    print(np.any(np.isnan(X_target.iloc[:, :6])))\n",
    "    print(np.any(np.isnan(X_target.iloc[:, -2:])))\n",
    "    \n",
    "    \n",
    "    y_array = np.zeros(shape=(X_array.shape[0], ))\n",
    "    for i in range(int(len(X_array)/5000000) +1):\n",
    "        if (i+1)*5000000 <= X_array.shape[0]:\n",
    "            X_slice = X_array[i*5000000:(i+1)*5000000, :]\n",
    "            y_predict = clf.predict(X_slice)\n",
    "            y_array[i*5000000:(i+1)*5000000] = y_predict\n",
    "        else:\n",
    "            X_slice = X_array[i*5000000:, :]\n",
    "            y_predict = clf.predict(X_slice)\n",
    "            y_array[i*5000000:] = y_predict\n",
    "            \n",
    "    y_array = y_array.astype('uint8')\n",
    "    result = np.empty(shape=(X_data.shape[0],), dtype='uint8')\n",
    "    for i, ind in enumerate(X_target.index):\n",
    "        result[ind] = y_array[i]\n",
    "    result_2d = np.reshape(result, (data_m.shape[0], data_m.shape[1]), order='C')\n",
    "    result_2d = result_2d.swapaxes(0,1)\n",
    "    \n",
    "    ##### Smooth Results ######\n",
    "    def SmoothImage(img):\n",
    "        smoothed = modal(img, selem=square(3), mask=mask)\n",
    "        return smoothed\n",
    "    \n",
    "    for i in range(smooth_times):\n",
    "        result_2d = SmoothImage(result_2d)\n",
    "    \n",
    "    ###########################\n",
    "    result_file = rasterio.open(file[:-4] + '_output.tif', 'w', driver='GTiff', height=result_2d.shape[0], width=result_2d.shape[1], count=1, \n",
    "                         dtype='uint8', crs=data.crs, transform=data.transform)\n",
    "    result_file.write(result_2d, 1)\n",
    "    result_file.close()\n",
    "    print('Done for ' + file)\n",
    "    del data, data_m, mask, X_target"
   ]
  },
  {
   "cell_type": "code",
   "execution_count": 6,
   "metadata": {},
   "outputs": [
    {
     "name": "stdout",
     "output_type": "stream",
     "text": [
      "False\n",
      "False\n"
     ]
    },
    {
     "name": "stderr",
     "output_type": "stream",
     "text": [
      "C:\\Users\\Zhiqi\\Miniconda3\\envs\\geo\\lib\\site-packages\\ipykernel_launcher.py:5: FutureWarning: The value of this property will change in version 1.0. Please see https://github.com/mapbox/rasterio/issues/86 for details.\n",
      "  \"\"\"\n",
      "C:\\Users\\Zhiqi\\Miniconda3\\envs\\geo\\lib\\site-packages\\rasterio\\__init__.py:160: FutureWarning: GDAL-style transforms are deprecated and will not be supported in Rasterio 1.0.\n",
      "  transform = guard_transform(transform)\n"
     ]
    },
    {
     "name": "stdout",
     "output_type": "stream",
     "text": [
      "Done for 1360432004020801_stack.tif\n",
      "False\n",
      "False\n",
      "Done for 1360442004020801_stack.tif\n",
      "False\n",
      "False\n",
      "Done for 1360452004020801_stack.tif\n"
     ]
    }
   ],
   "source": [
    "targetfiles = glob.glob('*stack.tif')\n",
    "clf_file = open('clf.pkl', 'rb')\n",
    "clf = pickle.load(clf_file)\n",
    "for file in targetfiles:\n",
    "    Classify(file, clf)\n"
   ]
  },
  {
   "cell_type": "code",
   "execution_count": null,
   "metadata": {},
   "outputs": [],
   "source": []
  }
 ],
 "metadata": {
  "kernelspec": {
   "display_name": "Python 3",
   "language": "python",
   "name": "python3"
  },
  "language_info": {
   "codemirror_mode": {
    "name": "ipython",
    "version": 3
   },
   "file_extension": ".py",
   "mimetype": "text/x-python",
   "name": "python",
   "nbconvert_exporter": "python",
   "pygments_lexer": "ipython3",
   "version": "3.5.4"
  }
 },
 "nbformat": 4,
 "nbformat_minor": 2
}
